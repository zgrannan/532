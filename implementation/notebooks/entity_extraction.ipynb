{
 "cells": [
  {
   "cell_type": "markdown",
   "metadata": {},
   "source": [
    "* Generate Prompts that will return entities, summarize documents\n",
    "* Can turn these into functions / tools.\n",
    "* Ollama models dont seem to work as well as LM Studio for some reason, maybe something to do with the Prompt template that is abstracted\n",
    "* LM Studio does have a token limit window error that I hit"
   ]
  },
  {
   "cell_type": "code",
   "execution_count": 85,
   "metadata": {},
   "outputs": [],
   "source": [
    "%load_ext autoreload\n",
    "%autoreload 2\n"
   ]
  },
  {
   "cell_type": "code",
   "execution_count": 96,
   "metadata": {},
   "outputs": [
    {
     "ename": "ImportError",
     "evalue": "cannot import name 'extract_entities' from 'pipeline.entity_extraction' (/home/owen/Desktop/github/532/implementation/notebooks/../pipeline/entity_extraction.py)",
     "output_type": "error",
     "traceback": [
      "\u001b[0;31m---------------------------------------------------------------------------\u001b[0m",
      "\u001b[0;31mImportError\u001b[0m                               Traceback (most recent call last)",
      "Cell \u001b[0;32mIn[96], line 14\u001b[0m\n\u001b[1;32m     11\u001b[0m \u001b[38;5;28;01mfrom\u001b[39;00m \u001b[38;5;21;01mtyping\u001b[39;00m \u001b[38;5;28;01mimport\u001b[39;00m List\n\u001b[1;32m     12\u001b[0m \u001b[38;5;28;01mimport\u001b[39;00m \u001b[38;5;21;01mjson\u001b[39;00m\n\u001b[0;32m---> 14\u001b[0m \u001b[38;5;28;01mfrom\u001b[39;00m \u001b[38;5;21;01mpipeline\u001b[39;00m\u001b[38;5;21;01m.\u001b[39;00m\u001b[38;5;21;01mentity_extraction\u001b[39;00m \u001b[38;5;28;01mimport\u001b[39;00m extract_entities\n",
      "\u001b[0;31mImportError\u001b[0m: cannot import name 'extract_entities' from 'pipeline.entity_extraction' (/home/owen/Desktop/github/532/implementation/notebooks/../pipeline/entity_extraction.py)"
     ]
    }
   ],
   "source": [
    "from openai import OpenAI\n",
    "import os \n",
    "import sys \n",
    "from pprint import pprint\n",
    "from IPython.display import display, Markdown, Latex\n",
    "\n",
    "sys.path.append('../')\n",
    "\n",
    "from utils.pdf import read_pdf\n",
    "from pydantic import BaseModel, Field\n",
    "from typing import List\n",
    "import json\n",
    "\n",
    "from pipeline.entity_extraction import ENTITY_EXTRACTION_SYSTEM_PROMPT, EntityExtractionModel\n",
    "from pipeline.helpers import get_json_response, get_messages_response"
   ]
  },
  {
   "cell_type": "code",
   "execution_count": 87,
   "metadata": {},
   "outputs": [],
   "source": [
    "model = \"ollama/llama3.2\"\n",
    "ollama_base_url = \"http://localhost:11434/v1\"\n",
    "lm_studio_base_url = \"http://localhost:1234/v1\"\n",
    "pdf_text = read_pdf(\"../data/Taming Transformers for High Resolution Image Synthesis.pdf\") \n",
    "\n",
    "\n",
    "# ollama_client = OpenAI(base_url=ollama_base_url, api_key=\"ollama\")\n",
    "lm_studio_client = OpenAI(base_url=lm_studio_base_url, api_key=\"lm_studio\")"
   ]
  },
  {
   "cell_type": "code",
   "execution_count": 92,
   "metadata": {},
   "outputs": [
    {
     "data": {
      "text/plain": [
       "86176"
      ]
     },
     "execution_count": 92,
     "metadata": {},
     "output_type": "execute_result"
    }
   ],
   "source": [
    "len(pdf_text)"
   ]
  },
  {
   "cell_type": "code",
   "execution_count": 93,
   "metadata": {},
   "outputs": [
    {
     "name": "stderr",
     "output_type": "stream",
     "text": [
      "INFO:httpx:HTTP Request: POST http://localhost:1234/v1/chat/completions \"HTTP/1.1 200 OK\"\n"
     ]
    }
   ],
   "source": [
    "entities = get_json_response(\n",
    "    \n",
    "    client=lm_studio_client,\n",
    "    text=pdf_text[0:40000],\n",
    "    # model=\"llama-3.2-3b-instruct-q8_0\"\n",
    "    model=\"meta-llama-3.1-8b-instruct-q6_k\",\n",
    "    messages=[\n",
    "            \n",
    "            {\n",
    "                \"role\": \"system\",\n",
    "                \"content\": ENTITY_EXTRACTION_SYSTEM_PROMPT.format(text=pdf_text[0:20000])\n",
    "            },\n",
    "\n",
    "        ],    \n",
    "        response_format=EntityExtractionModel\n",
    ")"
   ]
  },
  {
   "cell_type": "code",
   "execution_count": 90,
   "metadata": {},
   "outputs": [
    {
     "data": {
      "text/plain": [
       "['Generative image models',\n",
       " 'Knowledge transfer',\n",
       " 'Vision transformers',\n",
       " 'Generative knowledge transfer',\n",
       " 'Image synthesis',\n",
       " 'Autoregressive transformers',\n",
       " 'Non-autoregressive transformers',\n",
       " 'Prompt tuning',\n",
       " 'Image token sequence',\n",
       " 'Prompt design',\n",
       " 'Training images',\n",
       " 'Visual domains',\n",
       " 'Image generation quality',\n",
       " 'Large dataset',\n",
       " 'Visual tokens',\n",
       " 'Learnable tokens (prompts)']"
      ]
     },
     "execution_count": 90,
     "metadata": {},
     "output_type": "execute_result"
    }
   ],
   "source": [
    "entities.entities # llama-3.2-3b-instruct-q8_0 32k max token length"
   ]
  },
  {
   "cell_type": "code",
   "execution_count": 94,
   "metadata": {},
   "outputs": [
    {
     "data": {
      "text/plain": [
       "['Transformers',\n",
       " 'High-Resolution Image Synthesis',\n",
       " 'Convolutional Neural Networks (CNNs)',\n",
       " 'Generative Adversarial Networks (GANs)',\n",
       " 'Vector Quantised Variational Autoencoder (VQVAE)',\n",
       " 'PixelSNAIL',\n",
       " 'ImageNet',\n",
       " 'Restricted ImageNet (RIN)',\n",
       " 'LSUN Churches and Towers (LSUN-CT)',\n",
       " 'FacesHQ',\n",
       " 'CelebA-HQ',\n",
       " 'FFHQ',\n",
       " 'Semantic Layouts',\n",
       " 'COCO-Stuff',\n",
       " 'ADE20K',\n",
       " 'DeepFashion',\n",
       " 'BigGAN',\n",
       " 'IDDPM',\n",
       " 'DCTransformer',\n",
       " 'ADM-G',\n",
       " 'VAEBM',\n",
       " 'Style ALAE',\n",
       " 'DC-VAE',\n",
       " 'PGGAN',\n",
       " 'StyleGAN2',\n",
       " 'NVIDIA corporation',\n",
       " 'German Research Foundation (DFG)',\n",
       " 'Heidelberg Collaboratory for Image Processing, IWR, Heidelberg University, Germany',\n",
       " 'Patrick Esser',\n",
       " 'Robin Rombach',\n",
       " 'Bj¨orn Ommer',\n",
       " 'VQ_GAN',\n",
       " 'Patch-based discriminator D',\n",
       " 'Perceptual loss',\n",
       " 'Adversarial training procedure',\n",
       " 'Transformer architecture',\n",
       " 'Autoregressive modeling of images',\n",
       " 'PixelSNAIL model',\n",
       " 'Conditional image synthesis tasks',\n",
       " 'Semantic segmentation masks',\n",
       " 'Depth maps',\n",
       " 'Edge information',\n",
       " 'Pose-guided person generation',\n",
       " 'Class-conditional samples on RIN',\n",
       " 'ImageNet dataset',\n",
       " 'Restricted ImageNet (RIN) dataset',\n",
       " 'LSUN Churches and Towers (LSUN-CT) dataset',\n",
       " 'FacesHQ dataset',\n",
       " 'CelebA-HQ dataset',\n",
       " 'FFHQ dataset',\n",
       " 'Semantic layouts on S-FLCKR dataset',\n",
       " 'COCO-Stuff dataset',\n",
       " 'ADE20K dataset',\n",
       " 'DeepFashion dataset',\n",
       " 'BigGAN model',\n",
       " 'IDDPM model',\n",
       " 'DCTransformer model',\n",
       " 'ADM-G model',\n",
       " 'VAEBM model',\n",
       " 'Style ALAE model',\n",
       " 'DC-VAE model',\n",
       " 'PGGAN model',\n",
       " 'StyleGAN2 model',\n",
       " 'NVIDIA GeForce GTX Titan X GPU',\n",
       " 'German Research Foundation (DFG) projects 371923335, 421703927',\n",
       " 'Heidelberg University, Germany',\n",
       " 'IWR, Heidelberg University, Germany',\n",
       " 'Robin Rombach[*]',\n",
       " 'Bj¨orn Ommer[*]']"
      ]
     },
     "execution_count": 94,
     "metadata": {},
     "output_type": "execute_result"
    }
   ],
   "source": [
    "entities.entities # \"meta-llama-3.1-8b-instruct-q6_k\" 16k definitely better than 3.2"
   ]
  },
  {
   "cell_type": "code",
   "execution_count": null,
   "metadata": {},
   "outputs": [],
   "source": []
  }
 ],
 "metadata": {
  "kernelspec": {
   "display_name": "gen-ai",
   "language": "python",
   "name": "python3"
  },
  "language_info": {
   "codemirror_mode": {
    "name": "ipython",
    "version": 3
   },
   "file_extension": ".py",
   "mimetype": "text/x-python",
   "name": "python",
   "nbconvert_exporter": "python",
   "pygments_lexer": "ipython3",
   "version": "3.12.4"
  }
 },
 "nbformat": 4,
 "nbformat_minor": 2
}
